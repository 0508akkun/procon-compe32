{
 "cells": [
  {
   "cell_type": "code",
   "execution_count": 3,
   "metadata": {},
   "outputs": [],
   "source": [
    "from PIL import Image\n",
    "import numpy as np\n",
    "from matplotlib import pyplot as plt\n",
    "import struct\n",
    "%matplotlib inline  \n",
    "# Jupyter Notebookでインライン表示する"
   ]
  },
  {
   "cell_type": "code",
   "execution_count": 4,
   "metadata": {},
   "outputs": [],
   "source": [
    "file = open('images/windmillnum.ppm','r')"
   ]
  },
  {
   "cell_type": "code",
   "execution_count": 5,
   "metadata": {},
   "outputs": [
    {
     "name": "stdout",
     "output_type": "stream",
     "text": [
      "480 320\n",
      "\n"
     ]
    }
   ],
   "source": [
    "file_data = file.readlines()\n",
    "print(file_data[5])"
   ]
  },
  {
   "cell_type": "code",
   "execution_count": 6,
   "metadata": {},
   "outputs": [
    {
     "name": "stdout",
     "output_type": "stream",
     "text": [
      "P3\n"
     ]
    }
   ],
   "source": [
    "format_str = file_data[0].rstrip()\n",
    "print(format_str)"
   ]
  },
  {
   "cell_type": "code",
   "execution_count": 8,
   "metadata": {},
   "outputs": [
    {
     "name": "stdout",
     "output_type": "stream",
     "text": [
      "['3', '2']\n"
     ]
    }
   ],
   "source": [
    "division_number = file_data[1].rstrip().strip('#').split()\n",
    "print(division_number)"
   ]
  },
  {
   "cell_type": "code",
   "execution_count": 9,
   "metadata": {},
   "outputs": [
    {
     "name": "stdout",
     "output_type": "stream",
     "text": [
      " 5\n"
     ]
    }
   ],
   "source": [
    "selectable_number = file_data[2].rstrip().strip('#')\n",
    "print(selectable_number)"
   ]
  },
  {
   "cell_type": "code",
   "execution_count": 10,
   "metadata": {},
   "outputs": [
    {
     "name": "stdout",
     "output_type": "stream",
     "text": [
      "['15', '2']\n"
     ]
    }
   ],
   "source": [
    "cost_convert = file_data[3].rstrip().strip('#').split()\n",
    "print(cost_convert)"
   ]
  },
  {
   "cell_type": "code",
   "execution_count": 14,
   "metadata": {},
   "outputs": [
    {
     "name": "stdout",
     "output_type": "stream",
     "text": [
      "#\n",
      "\n"
     ]
    }
   ],
   "source": [
    "image_size = file_data[4].rstrip().strip('#').split()\n",
    "print(image_size)"
   ]
  },
  {
   "cell_type": "code",
   "execution_count": 9,
   "metadata": {},
   "outputs": [
    {
     "name": "stdout",
     "output_type": "stream",
     "text": [
      "b'255'\n"
     ]
    }
   ],
   "source": [
    "pixel_depth = file_data[5].rstrip()\n",
    "print(pixel_depth)"
   ]
  },
  {
   "cell_type": "code",
   "execution_count": 10,
   "metadata": {},
   "outputs": [
    {
     "name": "stdout",
     "output_type": "stream",
     "text": [
      "b\" ]\\x99%b\\x9b'a\\x9b\\x14Y\\x97\\x0fT\\x95\\x14V\\x99\\x19V\\x99\\x13U\\x9b\\x14W\\x9b\\x16W\\x98\\x1bY\\x98\\x1dZ\\x9b\\x1d\\\\\\x9b\\x1bZ\\x9b\\x1fW\\x99\\x19U\\x9c\\x16W\\x9b\\x17T\\x99\\x12R\\x9a\\x10U\\x9c\\x0eT\\x9c\\x10Q\\x9b\\x13P\\x9b\\x14S\\x99\\x0eS\\x9b\\x10T\\x9b\\x13S\\x9a\\x17U\\x9b\\x1aS\\x9d\\x18S\\x9c\\x18W\\x9b\\x1cY\\x99\\x17X\\x9b\\x1dW\\x9a\\x1bX\\x9a\\x17Z\\x9d\\x12X\\x9e\\x1bU\\x9e\\x1e[\\x9b\\x1b[\\x9a\\x1aX\\x9c\\x18[\\x9a\\x1aY\\x9b\\x19Y\\x9c#_\\x9b#]\\x9b\\x1eZ\\x99\\x1e]\\x9e*d\\xa13j\\xa14j\\xa04h\\xa21i\\xa25g\\xa0/c\\xa1'`\\x9d.b\\x9d8j\\xa1:l\\xa7Fs\\xab^\\x80\\xb0o\\x8a\\xb5q\\x90\\xb9v\\x92\\xb7m\\x8d\\xafd\\x84\\xb0f\\x87\\xb0e\\x86\\xb4`\\x7f\\xb0Ux\\xabWy\\xaeb\\x84\\xaff\\x8a\\xb1y\\x93\\xb7\\x81\\x9d\\xbb\\x85\\xa0\\xbc\\x8d\\xa4\\xc1\\x85\\xa0\\xbe\\x81\\x9c\\xbd\\x86\\x9f\\xbd\\x8b\\xa0\\xbe\\x92\\xa7\\xc4\\x9c\\xb0\\xc7\\xa2\\xb4\\xc9\\xa1\\xb2\\xc7\\x9e\\xae\\xca\\xa1\\xb3\\xcc\\x9a\\xb0\\xc9\\x9c\\xb2\\xce\\xa2\\xb7\\xd1\\xa3\\xb9\\xcd\\xa6\\xb8\\xd0\\xa5\\xb8\\xcf\\x9f\\xb3\\xcb\\x95\\xac\\xc7\\x92\\xaa\\xc1\\x90\\xa4\\xc1\\x86\\xa0\\xbej\\x8d\\xb3Et\\xa5T|\\xacg\\x87\\xb6y\\x92\\xbb\\x83\\x9b\\xbf\\x83\\x9c\\xbf`\\x88\\xb4Ds\\xaaZ~\\xb0_\\x80\\xb0Bm\\xa43d\\xa2>c\\xa6+[\\x9e\\x1fW\\x9b#Y\\x9d\\x1cW\\x9d\\x1eX\\x9d\\x1dV\\x9f\\x18W\\xa0\\x16V\\x9d\\x18U\\x9f\\x1aW\\x9c\\x1bU\\x9c\\x19V\\x9a\\x1bV\\x9b\\x17T\\x9d\\x16Y\\x9f\\x16W\\x9f\\x16V\\x9d\\x15W\\x9b\\x12V\\x9e\\x16W\\x9f\\x1aW\\x9c\\x19U\\x9b\\x19X\\x9d\\x1aX\\x9b\\x1aX\\x9d\\x18W\\x9e\\x1bW\\x9d\\x17V\\x9c\\x1eU\\x9e\\x1bS\\x9d\\x14Y\\x9d\\x17U\\x9e\\x16U\\x9d\\x16X\\x9b\\x1aX\\x9c\\x18V\\x9e\\x13W\\x9c\\x12V\\x9c\\x0fV\\x9d\\x16T\\x9d\\x16U\\x9e\\x17Y\\x9d\\x10W\\x9c\\x0bV\\x9d\\x17T\\x9c\\x16R\\x9d\\x14U\\x9d\\x16U\\x9b\\x18R\\x9b\\x15T\\x9c\\x17U\\x9c\\x14W\\x9a\\x12V\\x9c\\x14U\\x9d\\x12S\\x9c\\x17S\\x9b\\x12T\\x9c\\x13R\\x9c\\x12P\\x9c\\x12Q\\x9a\\x15R\\x9c\\x14T\\x9a\\x13U\\x9c\\x16R\\x9d\\x13R\\x9b\\x13S\\x9b\\x12R\\x9b\\x10R\\x9b\\x11R\\x9b\\x0eS\\x9c\\x0eQ\\x9c\\x12S\\x9c\\x11S\\x9c\"\n"
     ]
    }
   ],
   "source": [
    "debug_str = file_data[6].rstrip()\n",
    "print(debug_str)"
   ]
  },
  {
   "cell_type": "code",
   "execution_count": 11,
   "metadata": {},
   "outputs": [
    {
     "name": "stdout",
     "output_type": "stream",
     "text": [
      "b'Q\\x9c\\x0cQ\\x9c\\x12R\\x9a\\x12R\\x9c\\x0fR\\x9a'\n"
     ]
    }
   ],
   "source": [
    "debug_str = file_data[7].rstrip()\n",
    "print(debug_str)"
   ]
  },
  {
   "cell_type": "code",
   "execution_count": 12,
   "metadata": {},
   "outputs": [
    {
     "name": "stdout",
     "output_type": "stream",
     "text": [
      "b'Q\\x9c\\x11N\\x9c\\x0bO\\x9c\\x08Q\\x9d\\x07P\\x9c\\x05O\\x9c\\x10O\\x9b\\x14U\\x9a\\rQ\\x9a\\x0cR\\x9b\\x10R\\x9b\\x0cP\\x9c\\x0cQ\\x9b'\n"
     ]
    }
   ],
   "source": [
    "debug_str = file_data[8].rstrip()\n",
    "print(debug_str)"
   ]
  },
  {
   "cell_type": "code",
   "execution_count": 13,
   "metadata": {},
   "outputs": [
    {
     "name": "stdout",
     "output_type": "stream",
     "text": [
      "b'O\\x9b\\x0eP\\x9c\\x12Q\\x9a\\rN\\x9c\\x06L\\x9d\\x10P\\x9c\\x08N\\x9c\\tP\\x9a\\x0bQ\\x9a\\x0cP\\x9b\\x12R\\x9a\\x12P\\x9a\\x10O\\x98\\x0fS\\x9b\\x10O\\x9b\\x0fM\\x99\\x11O\\x9b\\x0fP\\x9c\\x10Q\\x9c\\rQ\\x9b\\x11Q\\x9c\\x13Q\\x9c\\x12O\\x9a\\x14P\\x9b\\x13P\\x9a\\x13R\\x9b\\x13P\\x9c\\x0eP\\x9c\\x0bR\\x9c\\x0eS\\x9b\\x11R\\x9c'\n"
     ]
    }
   ],
   "source": [
    "debug_str = file_data[9].rstrip()\n",
    "print(debug_str)"
   ]
  },
  {
   "cell_type": "code",
   "execution_count": 14,
   "metadata": {},
   "outputs": [
    {
     "name": "stdout",
     "output_type": "stream",
     "text": [
      "b'P\\x9c\\x0bR\\x9b\\x0eS\\x9a\\rQ\\x9d'\n"
     ]
    }
   ],
   "source": [
    "debug_str = file_data[10].rstrip()\n",
    "print(debug_str)"
   ]
  },
  {
   "cell_type": "code",
   "execution_count": 15,
   "metadata": {},
   "outputs": [
    {
     "name": "stdout",
     "output_type": "stream",
     "text": [
      "b'Q\\x9e\\x13S\\x9b\\x14Q\\x9b\\x0eQ\\x9b\\x07Q\\x9c\\x0cS\\x9d\\rR\\x9b\\x0bQ\\x9c\\x10Q\\x9c\\x16Q\\x9b\\x16R\\x9a\\x16S\\x9b\\x15S\\x9a\\x11T\\x9a\\x12U\\x9c5j\\xa7h\\x8b\\xbev\\x92\\xbex\\x93\\xbes\\x8f\\xbah\\x88\\xb4Yz\\xafIv\\xb2[\\x83\\xb9x\\x94\\xc3\\x7f\\x9b\\xc3z\\x98\\xc3{\\x98\\xc2l\\x8b\\xba]\\x7f\\xb1-b\\xa3\\x18U\\xa3&Z\\xab=h\\xafCm\\xae\\x1bW\\xa2\\x14V\\x9d\\x0eS\\x98\\x0cN\\x9d\\x1cU\\xa1\\'a\\xa3(b\\xa2]\\x84\\xac|\\x97\\xba\\x88\\x9f\\xc0\\x90\\xaa\\xc4\\x8f\\xa6\\xc1\\x8a\\x9e\\xbeu\\x91\\xb5Ow\\xaa8m\\xa6\\x1eY\\x9d\\x13Q\\x9e\\x16V\\x9c\\x12W\\x9b\\x0bS\\x9b\\x0cS\\x9b\\x10R\\x9c\\x12S\\x9b\\x0eR\\x9b\\x10T\\x9c\\x0cR\\x9b\\x10S\\x9b\\x0eR\\x9c\\x10R\\x9c\\x14S\\x9b\\x12S\\x9b\\x12R\\x9c\\x0fP\\x9c\\x0fS\\x9b\\x15R\\x9b\\x17P\\x9b\\x12S\\x9c\\x16Q\\x9d\\rQ\\x9d\\x11T\\x9c\\x11S\\x9c\\rR\\x9c\\x16T\\x9c\\x13V\\x9c\\x0eU\\x9f\\x17X\\xa0Lw\\xac]\\x80\\xadY\\x81\\xab[\\x82\\xafJv\\xad@p\\xa9Lu\\xa7Rx\\xaaTz\\xaa`\\x88\\xb3My\\xad%^\\x9f(b\\xa10g\\xa43i\\xa4Y\\x83\\xacn\\x8b\\xb6W}\\xad8m\\xa6Gs\\xaby\\x98\\xc1\\x9e\\xb8\\xcf\\xae\\xc6\\xd5\\xb8\\xc9\\xd8\\xc1\\xcd\\xde\\xc2\\xd3\\xe3\\xc5\\xd7\\xe6\\xcb\\xda\\xe9\\xcb\\xd7\\xe7\\xca\\xdb\\xe7\\xce\\xe0\\xec\\xd4\\xde\\xed\\xd5\\xe4\\xf0\\xd4\\xe4\\xf0\\xdf\\xe6\\xf0\\xdf\\xef\\xf8\\xe2\\xf7\\xf9\\xe7\\xf4\\xfc\\xe9\\xf5\\xfb\\xeb\\xf7\\xfc\\xeb\\xf8\\xfe\\xeb\\xf0\\xfd\\xec\\xf1\\xfd\\xe9\\xfa\\xfd\\xef\\xf3\\xfc\\xf6\\xef\\xf6\\xf1\\xf7\\xf0\\xee\\xfd\\xf6\\xe9\\xf4\\xfb\\xe7\\xf5\\xfa\\xe7\\xf6\\xf9\\xea\\xf7\\xfa\\xe2\\xed\\xf9\\xe1\\xe6\\xf7\\xdf\\xe7\\xf6\\xd9\\xe6\\xf3\\xd3\\xe2\\xee\\xce\\xdf\\xeb\\xce\\xdd\\xea\\xc8\\xda\\xe7\\xc6\\xd8\\xe5\\xc5\\xd7\\xe5\\xc5\\xd1\\xe1\\xbf\\xd0\\xe0\\xbf\\xd2\\xde\\xc1\\xd0\\xde\\xc4\\xcf\\xdd\\xc2\\xd0\\xdd\\xc3\\xd0\\xdc\\xc0\\xd1\\xdd\\xc1\\xd1\\xde\\xbe\\xd2\\xdf\\xc1\\xd2\\xde\\xc1\\xd2\\xe1\\xc5\\xd6\\xe3\\xc8\\xda\\xe3\\xca\\xda\\xe5\\xcb\\xd6\\xe7\\xcb\\xd7\\xe6\\xcb\\xdc\\xe8\\xcd\\xde\\xec\\xd0\\xde\\xec\\xd3\\xe4\\xec\\xd1\\xe7\\xef\\xd5\\xe8\\xf1\\xd8\\xe6\\xf2\\xd8\\xe8\\xf2\\xd8\\xea\\xf3\\xdd\\xed\\xf2\\xdc\\xee\\xf2\\xde\\xec\\xf7\\xdf\\xec\\xfa\\xe0\\xf0\\xf8\\xe4\\xf3\\xf7\\xe5\\xf5\\xf9\\xe4\\xfb\\xf7\\xe8\\xf5\\xfa\\xea\\xf2\\xfd\\xe9\\xf5\\xfb\\xe9\\xf6\\xfc\\xe9\\xfa\\xfd\\xe9\\xfd\\xfe\\xeb\\xfa\\xfe\\xf1\\xf3\\xfd\\xe9\\xf3\\xfd\\xe8\\xf8\\xfd\\xe8\\xf5\\xfd\\xe4\\xef\\xfd\\xec\\xf3\\xfd\\xea\\xf7\\xfd\\xe9\\xf5\\xfd\\xea\\xf9\\xfd\\xea\\xf9\\xfe\\xe9\\xfa\\xfd\\xeb\\xfa\\xfc\\xea\\xfb\\xfe\\xe9\\xfd\\xfc\\xeb\\xf7\\xfd\\xeb\\xf0\\xfd\\xe9\\xf3\\xfd\\xe9\\xf6\\xfd\\xec\\xf8\\xfd\\xed\\xf8\\xfd\\xed\\xf6\\xfd\\xe8\\xf9\\xfd\\xe7\\xf7\\xfd\\xea\\xf2\\xfd\\xec\\xfb\\xfd\\xeb\\xfb\\xfd\\xea\\xf8\\xfd\\xea\\xf3\\xfd\\xea\\xf3\\xfd\\xe9\\xf4\\xfd\\xeb\\xf6\\xfd\\xe9\\xf5\\xfd\\xe8\\xfc\\xfd\\xe8\\xf3\\xfd\\xea\\xf4\\xfd\\xe9\\xf7\\xfd\\xe5\\xf5\\xfd\\xea\\xfa\\xfd\\xe6\\xf3\\xfd\\xe8\\xeb\\xfd\\xe6\\xed\\xfd\\xe4\\xef\\xfe\\xe6\\xf3\\xfc\\xe9\\xf7\\xf9\\xe8\\xfb\\xf9\\xea\\xf2\\xfd\\xea\\xf0\\xfc\\xe8\\xf0\\xfc\\xe6\\xf1\\xfd\\xe7\\xf5\\xfa\\xe3\\xee\\xfb\\xde\\xea\\xfa\\xdc\\xe8\\xf5\\xd9\\xe6\\xf5\\xd6\\xe6\\xf4\\xd2\\xe4\\xf0\\xd1\\xde\\xf0\\x1d\\\\\\x9b\"^\\x9c$_\\x9c\\x1c[\\x9b\\x11S\\x9b\\x18W\\x9b#]\\x9b\\x1e\\\\\\x9b\\x1dZ\\x9b\\x17W\\x98\\x17V\\x9a\\x19Y\\x9a\\x17X\\x9a\\x15U\\x9c\\x16V\\x9c\\x16W\\x9b\\x19W\\x9c\\x15W\\x9d\\x16W\\x9c\\x14V\\x9b\\x12T\\x9a\\x14R\\x9b\\rR\\x9c'\n"
     ]
    }
   ],
   "source": [
    "debug_str = file_data[11].rstrip()\n",
    "print(debug_str)"
   ]
  },
  {
   "cell_type": "code",
   "execution_count": 16,
   "metadata": {},
   "outputs": [
    {
     "name": "stdout",
     "output_type": "stream",
     "text": [
      "b'R\\x9c\\x11R\\x9b\\x12Q\\x9c\\x13R\\x9c\\x18T\\x9b\\x18T\\x9b\\x17V\\x9b\\x11Y\\x9d\\x16W\\x9e\\x16W\\x9e\\x13X\\x9c\\x19W\\x9b\\x14Y\\x9c\\x1b[\\x9f\"[\\xa1 Z\\x9b\\x1bY\\x9c\\x1aW\\x9e\\x16[\\x9c\\x1aW\\x9d\\x1dW\\xa0\"[\\x9c\\x1e[\\x9c\\x1fY\\x9f ]\\xa1+a\\xa12g\\xa20g\\xa35g\\xa5:l\\xa5Co\\xa35g\\xa21e\\xa36f\\xa1:h\\xa3Cp\\xa7Pw\\xabd\\x83\\xb3r\\x90\\xb9{\\x98\\xbc\\x81\\x9a\\xbc{\\x96\\xb7u\\x92\\xb7w\\x94\\xb6t\\x91\\xb8k\\x8c\\xb3g\\x86\\xb0f\\x87\\xb1d\\x85\\xb1h\\x87\\xb1z\\x94\\xb9\\x84\\x9e\\xbc\\x89\\xa2\\xbe\\x88\\xa3\\xc0\\x8a\\xa3\\xbd\\x89\\xa2\\xbc\\x87\\x9f\\xbd\\x8a\\xa1\\xc1\\x95\\xa9\\xc5\\xa3\\xb2\\xc9\\xa0\\xb5\\xcb\\x9f\\xb7\\xcc\\xa3\\xb6\\xd0\\xa6\\xb9\\xd0\\xa0\\xb8\\xcf\\xa8\\xb9\\xd2\\xb1\\xbb\\xd3\\xaf\\xc0\\xd1\\xae\\xbc\\xd0\\xaa\\xba\\xcf\\xa0\\xb7\\xcf\\x9b\\xb2\\xcb\\x99\\xae\\xc8\\x97\\xac\\xc7\\x91\\xaa\\xc6\\x83\\x9d\\xc0d\\x86\\xb2X\\x7f\\xb0f\\x89\\xb8r\\x93\\xb8\\x80\\x9a\\xbf\\x87\\xa1\\xbft\\x95\\xb7Z\\x7f\\xb3e\\x85\\xb8r\\x8e\\xbbg\\x87\\xb5]\\x81\\xb2f\\x83\\xb5Sw\\xab(]\\x9e\\x18X\\xa0\\x1dX\\xa1\\x1eX\\x9c\\x1aX\\x9d\\x18W\\x9e\\x16X\\x9d\\x18U\\x9c\\x1bU\\x9c\\x18U\\x9d\\x15W\\x9d\\x18Y\\x9b\\x1bW\\x9c\\x1cW\\xa0\\x18U\\x9e\\x15U\\x9d\\x17V\\x9e\\x15V\\x9d\\x15W\\x9e\\x19W\\x9c\\x19V\\x9d\\x14Y\\x9e\\x14X\\x9e\\x14W\\x9e\\x12X\\xa0\\x12V\\x9d\\x12U\\x9d\\x17U\\x9d\\x19T\\x9d\\x18V\\x9d\\x18V\\x9e\\x17V\\x9c\\x17W\\x9e\\x17W\\x9c\\x1dU\\x9b\\x13W\\x9c\\x18U\\x9e\\x13V\\x9c\\x14U\\x9d\\x17T\\x9e\\x19U\\x9d\\x18S\\x9e\\x17V\\x9e\\x18W\\x9c\\x18T\\x9c\\x15V\\x9e\\x13U\\x9d\\x13U\\x9d\\x10V\\x9c\\x16V\\x9b\\x15W\\x9c\\x11S\\x9d\\x13Q\\x9d\\x11S\\x9c\\x13T\\x9c\\x17T\\x9c\\x16S\\x9b\\x16T\\x9b\\x11T\\x9b\\x16R\\x9b\\x17S\\x9c\\x12T\\x9b\\x11S\\x9c\\x11T\\x9c\\x12T\\x9c\\x16Q\\x9c\\x14R\\x9b\\x0bQ\\x9b'\n"
     ]
    }
   ],
   "source": [
    "debug_str = file_data[12].rstrip()\n",
    "print(debug_str)"
   ]
  },
  {
   "cell_type": "code",
   "execution_count": 24,
   "metadata": {},
   "outputs": [
    {
     "ename": "ValueError",
     "evalue": "invalid literal for int() with base 10: b'Q\\x9c'",
     "output_type": "error",
     "traceback": [
      "\u001b[0;31m---------------------------------------------------------------------------\u001b[0m",
      "\u001b[0;31mValueError\u001b[0m                                Traceback (most recent call last)",
      "\u001b[0;32m<ipython-input-24-28389fae9c6c>\u001b[0m in \u001b[0;36m<module>\u001b[0;34m\u001b[0m\n\u001b[1;32m      1\u001b[0m \u001b[0mpixel_data\u001b[0m \u001b[0;34m=\u001b[0m \u001b[0;34m[\u001b[0m\u001b[0;34m]\u001b[0m\u001b[0;34m\u001b[0m\u001b[0;34m\u001b[0m\u001b[0m\n\u001b[1;32m      2\u001b[0m \u001b[0;32mfor\u001b[0m \u001b[0mi\u001b[0m \u001b[0;32min\u001b[0m \u001b[0mrange\u001b[0m\u001b[0;34m(\u001b[0m\u001b[0;36m7\u001b[0m\u001b[0;34m,\u001b[0m \u001b[0mlen\u001b[0m\u001b[0;34m(\u001b[0m\u001b[0mfile_data\u001b[0m\u001b[0;34m)\u001b[0m\u001b[0;34m,\u001b[0m \u001b[0;36m1\u001b[0m\u001b[0;34m)\u001b[0m\u001b[0;34m:\u001b[0m\u001b[0;34m\u001b[0m\u001b[0;34m\u001b[0m\u001b[0m\n\u001b[0;32m----> 3\u001b[0;31m     \u001b[0mpixel_data\u001b[0m \u001b[0;34m+=\u001b[0m \u001b[0mlist\u001b[0m\u001b[0;34m(\u001b[0m\u001b[0mmap\u001b[0m\u001b[0;34m(\u001b[0m\u001b[0mint\u001b[0m\u001b[0;34m,\u001b[0m\u001b[0mfile_data\u001b[0m\u001b[0;34m[\u001b[0m\u001b[0mi\u001b[0m\u001b[0;34m]\u001b[0m\u001b[0;34m.\u001b[0m\u001b[0msplit\u001b[0m\u001b[0;34m(\u001b[0m\u001b[0;34m)\u001b[0m\u001b[0;34m)\u001b[0m\u001b[0;34m)\u001b[0m\u001b[0;34m\u001b[0m\u001b[0;34m\u001b[0m\u001b[0m\n\u001b[0m\u001b[1;32m      4\u001b[0m \u001b[0mimage_data\u001b[0m \u001b[0;34m=\u001b[0m \u001b[0mnp\u001b[0m\u001b[0;34m.\u001b[0m\u001b[0marray\u001b[0m\u001b[0;34m(\u001b[0m\u001b[0mpixel_data\u001b[0m\u001b[0;34m)\u001b[0m\u001b[0;34m\u001b[0m\u001b[0;34m\u001b[0m\u001b[0m\n",
      "\u001b[0;31mValueError\u001b[0m: invalid literal for int() with base 10: b'Q\\x9c'"
     ]
    }
   ],
   "source": [
    "pixel_data = []\n",
    "for i in range(7, len(file_data), 1):\n",
    "    pixel_data += list(map(int,file_data[i].split()))\n",
    "image_data = np.array(pixel_data)"
   ]
  },
  {
   "cell_type": "code",
   "execution_count": null,
   "metadata": {},
   "outputs": [],
   "source": []
  },
  {
   "cell_type": "code",
   "execution_count": null,
   "metadata": {},
   "outputs": [],
   "source": [
    "image = image_data.reshape([height, width, 3])\n",
    "print(image.shape)"
   ]
  },
  {
   "cell_type": "code",
   "execution_count": null,
   "metadata": {},
   "outputs": [],
   "source": [
    "print(np.uint8(image))\n",
    "image_show = Image.fromarray(np.uint8(image))\n",
    "plt.imshow(image_show)"
   ]
  },
  {
   "cell_type": "code",
   "execution_count": null,
   "metadata": {},
   "outputs": [],
   "source": [
    "plt.show()"
   ]
  },
  {
   "cell_type": "code",
   "execution_count": null,
   "metadata": {},
   "outputs": [],
   "source": [
    "from PIL import Image\n",
    "import numpy as np\n",
    "from matplotlib import pyplot as plt\n",
    "import struct\n",
    "%matplotlib inline  \n",
    "# Jupyter Notebookでインライン表示する"
   ]
  },
  {
   "cell_type": "code",
   "execution_count": null,
   "metadata": {},
   "outputs": [],
   "source": [
    "filename = 'images/windmill.ppm'\n",
    "\n",
    "# 画像ファイルパスから読み込み\n",
    "img = Image.open(filename)\n",
    "\n",
    "# numpy配列の取得\n",
    "img_array = np.asarray(img)\n",
    "\n",
    "plt.imshow(img_array)\n",
    "plt.show()"
   ]
  },
  {
   "cell_type": "code",
   "execution_count": null,
   "metadata": {},
   "outputs": [],
   "source": []
  },
  {
   "cell_type": "code",
   "execution_count": null,
   "metadata": {},
   "outputs": [],
   "source": []
  }
 ],
 "metadata": {
  "kernelspec": {
   "display_name": "procon-env",
   "language": "python",
   "name": "procon-env"
  },
  "language_info": {
   "codemirror_mode": {
    "name": "ipython",
    "version": 3
   },
   "file_extension": ".py",
   "mimetype": "text/x-python",
   "name": "python",
   "nbconvert_exporter": "python",
   "pygments_lexer": "ipython3",
   "version": "3.8.10"
  }
 },
 "nbformat": 4,
 "nbformat_minor": 4
}
