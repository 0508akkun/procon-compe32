{
 "cells": [
  {
   "cell_type": "code",
   "execution_count": null,
   "metadata": {},
   "outputs": [],
   "source": [
    "import cv2\n",
    "import numpy as np\n",
    "\n",
    "filename = 'images/windmill.ppm'\n",
    "\n",
    "# 画像ファイルパスから読み込み\n",
    "img = cv2.imread(filename)\n",
    "\n",
    "# バイナリから読み込み(python3なのでbinaryモードで読み込み)\n",
    "with open(filename, 'rb') as f:\n",
    "    binary = f.read()\n",
    "\n",
    "# 一度ndarrayに変換してからdecodeします。reshapeだけしてると思われます.\n",
    "arr = np.asarray(bytearray(binary), dtype=np.uint8)\n",
    "img = cv2.imdecode(arr, -1)  # 'load it as it is'\n",
    "\n",
    "# numpy配列の取得、インスタンス自体がndarrayです\n",
    "type(img) # numpy.ndarray"
   ]
  },
  {
   "cell_type": "code",
   "execution_count": 4,
   "metadata": {},
   "outputs": [
    {
     "data": {
      "text/plain": [
       "'/mnt/d/Users/Documents/procon-compe32/procon-compe32-gui'"
      ]
     },
     "execution_count": 4,
     "metadata": {},
     "output_type": "execute_result"
    }
   ],
   "source": [
    "import os\n",
    "os.getcwd()"
   ]
  },
  {
   "cell_type": "code",
   "execution_count": null,
   "metadata": {},
   "outputs": [],
   "source": []
  }
 ],
 "metadata": {
  "kernelspec": {
   "display_name": "procon-env",
   "language": "python",
   "name": "procon-env"
  },
  "language_info": {
   "codemirror_mode": {
    "name": "ipython",
    "version": 3
   },
   "file_extension": ".py",
   "mimetype": "text/x-python",
   "name": "python",
   "nbconvert_exporter": "python",
   "pygments_lexer": "ipython3",
   "version": "3.8.5"
  }
 },
 "nbformat": 4,
 "nbformat_minor": 4
}
